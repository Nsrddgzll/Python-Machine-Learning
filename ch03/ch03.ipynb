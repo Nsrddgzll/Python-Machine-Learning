{
 "cells": [
  {
   "cell_type": "code",
   "execution_count": null,
   "metadata": {},
   "outputs": [],
   "source": [
    "import numpy as np\n",
    "from sklearn import LogisticRegression"
   ]
  },
  {
   "cell_type": "code",
   "execution_count": null,
   "metadata": {},
   "outputs": [],
   "source": [
    "class LogisticRegressionGD(object):\n",
    "    \"\"\"Logistic Classifier\n",
    "    Parameters\n",
    "    -----------\n",
    "\n",
    "    eta : float\n",
    "\n",
    "    n_iter : int\n",
    "\n",
    "    random_state : int\n",
    "\n",
    "    Attributes\n",
    "    -----------\n",
    "    w_ : 1d-array\n",
    "\n",
    "    b_ : scalar\n",
    "\n",
    "    losses_ : list\n",
    "    \"\"\"\n",
    "    def __init__(self, eta=0.01, n_iter=50, random_state=1):\n",
    "        self.eta = eta\n",
    "        self.n_iter = n_iter\n",
    "        self.random_state = random_state\n",
    "\n",
    "    def fit(self, X, y):\n",
    "        \"\"\"fit training data\n",
    "        Parameters\n",
    "        -------------\n",
    "        X : {array-like} [n_observations, n_features]\n",
    "\n",
    "        y : array-like [n_observations]\n",
    "\n",
    "        Return\n",
    "        --------\n",
    "        self : class instance\n",
    "        \"\"\"\n",
    "        rgen = np.random.RandomState(self.random_state)\n",
    "        self.w_ = rgen.normal(loc=0, scale=0.01, size=X.shape[1])\n",
    "        self.b_ = np.float_(.0)\n",
    "        self.losses_ = []\n",
    "\n",
    "        for i in range(self.n_iter):\n",
    "            net_input = self.net_input(X)\n",
    "            output = self.activation(net_input)\n",
    "            error = (y - output)\n",
    "            self.w_ += self.eta * X.T @ error \n",
    "            self.b_ += self.eta *  error.sum()\n",
    "            losses = -y.dot(np.log(output)) - (1-y).dot(np.log(1-output))\n",
    "            self.losses_.append(losses)\n",
    "        return self\n",
    "    \n",
    "    def net_input(self, X):\n",
    "        return np.dot(X, self.w_) + self.b_\n",
    "    \n",
    "    def activation(self, z):\n",
    "        return 1 / (1 + np.exp(np.clip(z, -250, 250)))\n",
    "    \n",
    "    def predict(self, X):\n",
    "        return np.where(self.activation(self.net_input(X)) >= 0.5, 1, -1)\n",
    "    \n",
    "\n"
   ]
  }
 ],
 "metadata": {
  "kernelspec": {
   "display_name": "myenv310",
   "language": "python",
   "name": "python3"
  },
  "language_info": {
   "name": "python",
   "version": "3.10.13"
  }
 },
 "nbformat": 4,
 "nbformat_minor": 2
}
